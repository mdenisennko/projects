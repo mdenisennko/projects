{
 "cells": [
  {
   "cell_type": "code",
   "execution_count": 48,
   "metadata": {},
   "outputs": [
    {
     "data": {
      "text/plain": [
       "(1000, 12)"
      ]
     },
     "execution_count": 48,
     "metadata": {},
     "output_type": "execute_result"
    }
   ],
   "source": [
    "import pandas as pd\n",
    "import numpy as np\n",
    "\n",
    "data = pd.read_csv(\"mental_health_dataset.csv\")\n",
    "data.shape"
   ]
  },
  {
   "cell_type": "markdown",
   "metadata": {},
   "source": [
    "1000 строк, 12 столбцов"
   ]
  },
  {
   "cell_type": "code",
   "execution_count": 49,
   "metadata": {},
   "outputs": [
    {
     "data": {
      "text/plain": [
       "User_ID                      int64\n",
       "Age                          int64\n",
       "Gender                      object\n",
       "Occupation                  object\n",
       "Country                     object\n",
       "Mental_Health_Condition     object\n",
       "Severity                    object\n",
       "Consultation_History        object\n",
       "Stress_Level                object\n",
       "Sleep_Hours                float64\n",
       "Work_Hours                   int64\n",
       "Physical_Activity_Hours      int64\n",
       "dtype: object"
      ]
     },
     "execution_count": 49,
     "metadata": {},
     "output_type": "execute_result"
    }
   ],
   "source": [
    "data.dtypes"
   ]
  },
  {
   "cell_type": "markdown",
   "metadata": {},
   "source": [
    "Количественные признаки: Age, Sleep_Hours, Work_Hours, Physical_Activity_Hours\n",
    "\n",
    "Категориальные признаки: Gender, Occupation, Country, Mental_Health_Condition, Severity, \n",
    "Consultation_History, Stress_Level\n",
    "\n",
    "Номинальные: Severity, Stress_Level"
   ]
  },
  {
   "cell_type": "code",
   "execution_count": 50,
   "metadata": {},
   "outputs": [
    {
     "data": {
      "text/plain": [
       "User_ID                      0\n",
       "Age                          0\n",
       "Gender                       0\n",
       "Occupation                   0\n",
       "Country                      0\n",
       "Mental_Health_Condition      0\n",
       "Severity                   501\n",
       "Consultation_History         0\n",
       "Stress_Level                 0\n",
       "Sleep_Hours                  0\n",
       "Work_Hours                   0\n",
       "Physical_Activity_Hours      0\n",
       "dtype: int64"
      ]
     },
     "execution_count": 50,
     "metadata": {},
     "output_type": "execute_result"
    }
   ],
   "source": [
    "data.isna().sum()"
   ]
  },
  {
   "cell_type": "markdown",
   "metadata": {},
   "source": [
    "В колонке severity 501 пропуск, колонку необходимо удалить, так как пропусков более 40%"
   ]
  },
  {
   "cell_type": "code",
   "execution_count": 51,
   "metadata": {},
   "outputs": [
    {
     "data": {
      "text/plain": [
       "0"
      ]
     },
     "execution_count": 51,
     "metadata": {},
     "output_type": "execute_result"
    }
   ],
   "source": [
    "# Удаляем колонку 'Severity'\n",
    "df = data.drop('Severity', axis = 1)\n",
    "\n",
    "df[df.duplicated()].shape[0]"
   ]
  },
  {
   "cell_type": "markdown",
   "metadata": {},
   "source": [
    "В данных отсутствуют полные дубликаты"
   ]
  },
  {
   "cell_type": "code",
   "execution_count": 52,
   "metadata": {},
   "outputs": [
    {
     "name": "stdout",
     "output_type": "stream",
     "text": [
      "0\n",
      "0\n",
      "0\n",
      "0\n"
     ]
    }
   ],
   "source": [
    "# Определение выбросов методом IQR (межквартильный размах)\n",
    "q1=df['Age'].quantile(0.25)\n",
    "q3=df['Age'].quantile(0.75)\n",
    "iqr = q3-q1\n",
    "low1 = q1 - iqr*1.5\n",
    "up1 = q3 + iqr*1.5\n",
    "print(df[(df['Age']<low1) | (df['Age']>up1)].shape[0])\n",
    "\n",
    "q1a=df['Sleep_Hours'].quantile(0.25)\n",
    "q3a=df['Sleep_Hours'].quantile(0.75)\n",
    "iqra = q3a-q1a\n",
    "low2 = q1a - iqra*1.5\n",
    "up2 = q3a + iqra*1.5\n",
    "print(df[(df['Sleep_Hours']<low2) | (df['Sleep_Hours']>up2)].shape[0])\n",
    "\n",
    "q1b=df['Work_Hours'].quantile(0.25)\n",
    "q3b=df['Work_Hours'].quantile(0.75)\n",
    "iqrb = q3b-q1b\n",
    "low3 = q1b - iqrb*1.5\n",
    "up3 = q3b + iqrb*1.5\n",
    "print(df[(df['Work_Hours']<low3) | (df['Work_Hours']>up3)].shape[0])\n",
    "\n",
    "q1c=df['Physical_Activity_Hours'].quantile(0.25)\n",
    "q3c=df['Physical_Activity_Hours'].quantile(0.75)\n",
    "iqrc = q3c-q1c\n",
    "low4 = q1c - iqrc*1.5\n",
    "up4 = q3c + iqrc*1.5\n",
    "print(df[(df['Physical_Activity_Hours']<low4) | (df['Physical_Activity_Hours']>up4)].shape[0])"
   ]
  },
  {
   "cell_type": "markdown",
   "metadata": {},
   "source": [
    "В столбцах Age, Sleep_Hours, Work_Hours и Physical_Activity_Hours отсутствуют выбросы (количество выбросов = 0)"
   ]
  },
  {
   "cell_type": "code",
   "execution_count": 53,
   "metadata": {},
   "outputs": [
    {
     "data": {
      "text/html": [
       "<div>\n",
       "<style scoped>\n",
       "    .dataframe tbody tr th:only-of-type {\n",
       "        vertical-align: middle;\n",
       "    }\n",
       "\n",
       "    .dataframe tbody tr th {\n",
       "        vertical-align: top;\n",
       "    }\n",
       "\n",
       "    .dataframe thead th {\n",
       "        text-align: right;\n",
       "    }\n",
       "</style>\n",
       "<table border=\"1\" class=\"dataframe\">\n",
       "  <thead>\n",
       "    <tr style=\"text-align: right;\">\n",
       "      <th></th>\n",
       "      <th>Age</th>\n",
       "      <th>Sleep_Hours</th>\n",
       "      <th>Work_Hours</th>\n",
       "      <th>Physical_Activity_Hours</th>\n",
       "    </tr>\n",
       "  </thead>\n",
       "  <tbody>\n",
       "    <tr>\n",
       "      <th>count</th>\n",
       "      <td>1000.00000</td>\n",
       "      <td>1000.000000</td>\n",
       "      <td>1000.000000</td>\n",
       "      <td>1000.000000</td>\n",
       "    </tr>\n",
       "    <tr>\n",
       "      <th>mean</th>\n",
       "      <td>41.89200</td>\n",
       "      <td>7.095600</td>\n",
       "      <td>54.621000</td>\n",
       "      <td>5.134000</td>\n",
       "    </tr>\n",
       "    <tr>\n",
       "      <th>std</th>\n",
       "      <td>13.97475</td>\n",
       "      <td>1.713861</td>\n",
       "      <td>14.709035</td>\n",
       "      <td>3.081808</td>\n",
       "    </tr>\n",
       "    <tr>\n",
       "      <th>min</th>\n",
       "      <td>18.00000</td>\n",
       "      <td>4.000000</td>\n",
       "      <td>30.000000</td>\n",
       "      <td>0.000000</td>\n",
       "    </tr>\n",
       "    <tr>\n",
       "      <th>25%</th>\n",
       "      <td>30.00000</td>\n",
       "      <td>5.600000</td>\n",
       "      <td>42.000000</td>\n",
       "      <td>3.000000</td>\n",
       "    </tr>\n",
       "    <tr>\n",
       "      <th>50%</th>\n",
       "      <td>42.00000</td>\n",
       "      <td>7.100000</td>\n",
       "      <td>55.000000</td>\n",
       "      <td>5.000000</td>\n",
       "    </tr>\n",
       "    <tr>\n",
       "      <th>75%</th>\n",
       "      <td>54.00000</td>\n",
       "      <td>8.500000</td>\n",
       "      <td>67.000000</td>\n",
       "      <td>8.000000</td>\n",
       "    </tr>\n",
       "    <tr>\n",
       "      <th>max</th>\n",
       "      <td>65.00000</td>\n",
       "      <td>10.000000</td>\n",
       "      <td>80.000000</td>\n",
       "      <td>10.000000</td>\n",
       "    </tr>\n",
       "  </tbody>\n",
       "</table>\n",
       "</div>"
      ],
      "text/plain": [
       "              Age  Sleep_Hours   Work_Hours  Physical_Activity_Hours\n",
       "count  1000.00000  1000.000000  1000.000000              1000.000000\n",
       "mean     41.89200     7.095600    54.621000                 5.134000\n",
       "std      13.97475     1.713861    14.709035                 3.081808\n",
       "min      18.00000     4.000000    30.000000                 0.000000\n",
       "25%      30.00000     5.600000    42.000000                 3.000000\n",
       "50%      42.00000     7.100000    55.000000                 5.000000\n",
       "75%      54.00000     8.500000    67.000000                 8.000000\n",
       "max      65.00000    10.000000    80.000000                10.000000"
      ]
     },
     "execution_count": 53,
     "metadata": {},
     "output_type": "execute_result"
    }
   ],
   "source": [
    "df_no_userid = df.drop(df.columns[0], axis=1)\n",
    "df_no_userid.describe()"
   ]
  },
  {
   "cell_type": "markdown",
   "metadata": {},
   "source": [
    "1. Age: Минимальный возраст 18 лет и максимальный 65 лет говорят о широком диапазоне возрастов, что позволяет анализировать ментальное здоровье в разных жизненных фазах.\n",
    "2. Sleep_Hours: Среднее значение Sleep_Hours приблизительно равно 7, что означает, что в среднем люди соблюдают \n",
    "рекомендации по здоровому сну (7-8 часов), тем не менее 50% опрошенных спят менее 7.1 часов, что может негативно сказываться на их ментальном здоровье \n",
    "3. Work_Hours: По данным на 2024 год, в среднем по миру продолжительность рабочей недели может варьироваться от менее 40 до почти 50 часов. Тем не менее, в среднем люди работают 54.6 часов в неделю (50% работают более 55 часов). Переработки и слишком напряженный график могут стать причиной депрессивных состояний, связанных именно с переутомлением."
   ]
  },
  {
   "cell_type": "code",
   "execution_count": 54,
   "metadata": {},
   "outputs": [
    {
     "data": {
      "text/html": [
       "<div>\n",
       "<style scoped>\n",
       "    .dataframe tbody tr th:only-of-type {\n",
       "        vertical-align: middle;\n",
       "    }\n",
       "\n",
       "    .dataframe tbody tr th {\n",
       "        vertical-align: top;\n",
       "    }\n",
       "\n",
       "    .dataframe thead th {\n",
       "        text-align: right;\n",
       "    }\n",
       "</style>\n",
       "<table border=\"1\" class=\"dataframe\">\n",
       "  <thead>\n",
       "    <tr style=\"text-align: right;\">\n",
       "      <th></th>\n",
       "      <th>Gender</th>\n",
       "      <th>Occupation</th>\n",
       "      <th>Country</th>\n",
       "      <th>Mental_Health_Condition</th>\n",
       "      <th>Consultation_History</th>\n",
       "      <th>Stress_Level</th>\n",
       "    </tr>\n",
       "  </thead>\n",
       "  <tbody>\n",
       "    <tr>\n",
       "      <th>count</th>\n",
       "      <td>1000</td>\n",
       "      <td>1000</td>\n",
       "      <td>1000</td>\n",
       "      <td>1000</td>\n",
       "      <td>1000</td>\n",
       "      <td>1000</td>\n",
       "    </tr>\n",
       "    <tr>\n",
       "      <th>unique</th>\n",
       "      <td>4</td>\n",
       "      <td>7</td>\n",
       "      <td>7</td>\n",
       "      <td>2</td>\n",
       "      <td>2</td>\n",
       "      <td>3</td>\n",
       "    </tr>\n",
       "    <tr>\n",
       "      <th>top</th>\n",
       "      <td>Female</td>\n",
       "      <td>Other</td>\n",
       "      <td>Australia</td>\n",
       "      <td>Yes</td>\n",
       "      <td>No</td>\n",
       "      <td>High</td>\n",
       "    </tr>\n",
       "    <tr>\n",
       "      <th>freq</th>\n",
       "      <td>270</td>\n",
       "      <td>161</td>\n",
       "      <td>160</td>\n",
       "      <td>515</td>\n",
       "      <td>505</td>\n",
       "      <td>342</td>\n",
       "    </tr>\n",
       "  </tbody>\n",
       "</table>\n",
       "</div>"
      ],
      "text/plain": [
       "        Gender Occupation    Country Mental_Health_Condition  \\\n",
       "count     1000       1000       1000                    1000   \n",
       "unique       4          7          7                       2   \n",
       "top     Female      Other  Australia                     Yes   \n",
       "freq       270        161        160                     515   \n",
       "\n",
       "       Consultation_History Stress_Level  \n",
       "count                  1000         1000  \n",
       "unique                    2            3  \n",
       "top                      No         High  \n",
       "freq                    505          342  "
      ]
     },
     "execution_count": 54,
     "metadata": {},
     "output_type": "execute_result"
    }
   ],
   "source": [
    "df.describe(include = 'object')"
   ]
  },
  {
   "cell_type": "code",
   "execution_count": 55,
   "metadata": {},
   "outputs": [
    {
     "data": {
      "text/plain": [
       "Stress_Level\n",
       "High      342\n",
       "Low       338\n",
       "Medium    320\n",
       "Name: count, dtype: int64"
      ]
     },
     "execution_count": 55,
     "metadata": {},
     "output_type": "execute_result"
    }
   ],
   "source": [
    "df['Stress_Level'].value_counts().sort_index()"
   ]
  },
  {
   "cell_type": "markdown",
   "metadata": {},
   "source": [
    "Выборка достаточно репрезентативна, так как включает людей разных профессий, полов, с разным уровнем стресса, проживающих в разных странах, имеющих и не имеющих проблем с ментальным здоровьем\n",
    "1. Stress_Level: Несмотря на то, что количество респондентов, имеющих сильный, средний и низкий уровни стресса распределено равномерно, больше всего людей (342) имеют высокий уровень стресса. Сильный стресс может быть вызван внешними или внутренними факторами, такими как тяжелая работа, недосып или психоэмоциональное состояние (например, депрессии или тревожные расстройства). \n",
    "2. Mental_Health_Condition/Consultation_History: количество людей, заявивших о наличии ментальных проблем составляет 515, однако лишь 495 человек консультировались с психологами и психотерапевтами (Consultation_History: freq 505, top No). Можно сделать вывод, что не все люди, осознающие наличие психических проблем обращаются за помощью и консультацией. Это подчеркивает важность повышения осведомленности о значении психического здоровья, устранения стигматизации в отношении ментальных проблем и улучшения доступа к услугам психологов и психотерапевтов для более широких слоев населения. "
   ]
  },
  {
   "cell_type": "code",
   "execution_count": 56,
   "metadata": {},
   "outputs": [
    {
     "data": {
      "text/plain": [
       "Text(0.5, 1.0, 'Наличие ментальных проблем')"
      ]
     },
     "execution_count": 56,
     "metadata": {},
     "output_type": "execute_result"
    },
    {
     "data": {
      "image/png": "[encoded data removed]",
      "text/plain": [
       "<Figure size 640x480 with 1 Axes>"
      ]
     },
     "metadata": {},
     "output_type": "display_data"
    }
   ],
   "source": [
    "import matplotlib.pyplot as plt\n",
    "import seaborn as sns\n",
    "\n",
    "mental_health = df['Mental_Health_Condition'].value_counts()\n",
    "plt.pie(mental_health.values, labels=mental_health.index, autopct='%1.1f%%', startangle=90)\n",
    "plt.title('Наличие ментальных проблем')"
   ]
  },
  {
   "cell_type": "markdown",
   "metadata": {},
   "source": [
    "На основании круговой диаграммы можно сделать вывод, что более половины опрошенных заявили о наличии ментальных проблем. Это может свидетельствовать о растущем внимании к вопросам ментального здоровья."
   ]
  },
  {
   "cell_type": "code",
   "execution_count": 57,
   "metadata": {},
   "outputs": [
    {
     "data": {
      "text/plain": [
       "Text(0, 0.5, 'Количество человек')"
      ]
     },
     "execution_count": 57,
     "metadata": {},
     "output_type": "execute_result"
    },
    {
     "data": {
      "image/png": "[encoded data removed]",
      "text/plain": [
       "<Figure size 640x480 with 1 Axes>"
      ]
     },
     "metadata": {},
     "output_type": "display_data"
    }
   ],
   "source": [
    "sns.histplot(df['Work_Hours'], kde=True, color='red')\n",
    "plt.title('Распределение рабочего времени')\n",
    "plt.xlabel('Рабочие часы в неделю')\n",
    "plt.ylabel('Количество человек')"
   ]
  },
  {
   "cell_type": "markdown",
   "metadata": {},
   "source": [
    "Гистограмма достаточно однородна. На основании графика можно сделать вывод, что многие сотрудники работают значительно больше стандартного рабочего времени, большое количество сотрудников работает в районе 65 часов в неделю."
   ]
  },
  {
   "cell_type": "code",
   "execution_count": 58,
   "metadata": {},
   "outputs": [
    {
     "data": {
      "text/plain": [
       "<matplotlib.legend.Legend at 0x1d6d9519670>"
      ]
     },
     "execution_count": 58,
     "metadata": {},
     "output_type": "execute_result"
    },
    {
     "data": {
      "image/png": "[encoded data removed]",
      "text/plain": [
       "<Figure size 640x480 with 1 Axes>"
      ]
     },
     "metadata": {},
     "output_type": "display_data"
    }
   ],
   "source": [
    "sns.countplot(x='Occupation', hue='Mental_Health_Condition', data=df, palette='pastel')\n",
    "plt.title('Связь профессии и наличия психических проблем')\n",
    "plt.xlabel('Профессия')\n",
    "plt.ylabel('Количество людей')\n",
    "plt.xticks(rotation=45)\n",
    "plt.legend(title='Наличие психических проблем', labels=['Нет', 'Да'], loc='lower center') "
   ]
  },
  {
   "cell_type": "markdown",
   "metadata": {},
   "source": [
    "Датасет охватывает большое количество профессий из разных сфер, несмотря на то, что количество людей, работающих в медицине, IT, инженеринге и финансах, с диагностированными психическими расстройствами и не имеющиими их,  распределены примерно одинаково, в продажах и других работников с психическими проблемами больше, чем без них. Единственная сфера, в которой количество людей без психических проблем превосходит число людей с ментальными проблемами - это образование (education). "
   ]
  },
  {
   "cell_type": "code",
   "execution_count": 59,
   "metadata": {},
   "outputs": [
    {
     "data": {
      "text/plain": [
       "<matplotlib.legend.Legend at 0x1d6df917c80>"
      ]
     },
     "execution_count": 59,
     "metadata": {},
     "output_type": "execute_result"
    },
    {
     "data": {
      "image/png": "[encoded data removed]",
      "text/plain": [
       "<Figure size 640x480 with 1 Axes>"
      ]
     },
     "metadata": {},
     "output_type": "display_data"
    }
   ],
   "source": [
    "sns.countplot(x='Stress_Level', hue='Mental_Health_Condition', data=df, palette='Paired')\n",
    "plt.title('Уровень стресса / Наличие ментальных проблем')\n",
    "plt.xlabel('Уровень стресса')\n",
    "plt.ylabel('Частота')\n",
    "plt.xticks([0,1,2], ['Низкий', 'Средний', 'Высокий'])\n",
    "plt.legend(title='Наличие ментальных проблем', labels=['Нет', 'Да'], loc='lower center')"
   ]
  },
  {
   "cell_type": "markdown",
   "metadata": {},
   "source": [
    "На основании графика можно сделать вывод, что не всегда высокий уровень стресса является причиной ментальных проблем, он может быть и следствием, судя по тому, что среди людей с низким уровнем стресса тоже достаточно распространены психические проблемы. Средний уровень стресса может быть привычным многим людям и не вызывать ментальных проблем, так как количество людей без психических заболеваний в этой категории больше, чем число людей, испытывающих средний уровень стресса и определенные ментальные проблемы."
   ]
  },
  {
   "cell_type": "markdown",
   "metadata": {},
   "source": [
    "КТ-3 Корреляция. Задача регрессии или классификации"
   ]
  },
  {
   "cell_type": "code",
   "execution_count": 60,
   "metadata": {},
   "outputs": [
    {
     "data": {
      "text/html": [
       "<div>\n",
       "<style scoped>\n",
       "    .dataframe tbody tr th:only-of-type {\n",
       "        vertical-align: middle;\n",
       "    }\n",
       "\n",
       "    .dataframe tbody tr th {\n",
       "        vertical-align: top;\n",
       "    }\n",
       "\n",
       "    .dataframe thead th {\n",
       "        text-align: right;\n",
       "    }\n",
       "</style>\n",
       "<table border=\"1\" class=\"dataframe\">\n",
       "  <thead>\n",
       "    <tr style=\"text-align: right;\">\n",
       "      <th></th>\n",
       "      <th>Age</th>\n",
       "      <th>Sleep_Hours</th>\n",
       "      <th>Work_Hours</th>\n",
       "      <th>Physical_Activity_Hours</th>\n",
       "    </tr>\n",
       "  </thead>\n",
       "  <tbody>\n",
       "    <tr>\n",
       "      <th>Age</th>\n",
       "      <td>1.000</td>\n",
       "      <td>-0.043</td>\n",
       "      <td>-0.014</td>\n",
       "      <td>0.053</td>\n",
       "    </tr>\n",
       "    <tr>\n",
       "      <th>Sleep_Hours</th>\n",
       "      <td>-0.043</td>\n",
       "      <td>1.000</td>\n",
       "      <td>-0.006</td>\n",
       "      <td>-0.015</td>\n",
       "    </tr>\n",
       "    <tr>\n",
       "      <th>Work_Hours</th>\n",
       "      <td>-0.014</td>\n",
       "      <td>-0.006</td>\n",
       "      <td>1.000</td>\n",
       "      <td>0.039</td>\n",
       "    </tr>\n",
       "    <tr>\n",
       "      <th>Physical_Activity_Hours</th>\n",
       "      <td>0.053</td>\n",
       "      <td>-0.015</td>\n",
       "      <td>0.039</td>\n",
       "      <td>1.000</td>\n",
       "    </tr>\n",
       "  </tbody>\n",
       "</table>\n",
       "</div>"
      ],
      "text/plain": [
       "                           Age  Sleep_Hours  Work_Hours  \\\n",
       "Age                      1.000       -0.043      -0.014   \n",
       "Sleep_Hours             -0.043        1.000      -0.006   \n",
       "Work_Hours              -0.014       -0.006       1.000   \n",
       "Physical_Activity_Hours  0.053       -0.015       0.039   \n",
       "\n",
       "                         Physical_Activity_Hours  \n",
       "Age                                        0.053  \n",
       "Sleep_Hours                               -0.015  \n",
       "Work_Hours                                 0.039  \n",
       "Physical_Activity_Hours                    1.000  "
      ]
     },
     "execution_count": 60,
     "metadata": {},
     "output_type": "execute_result"
    }
   ],
   "source": [
    "df.drop(columns=['User_ID']).corr(numeric_only=True).round(3)"
   ]
  },
  {
   "cell_type": "code",
   "execution_count": 61,
   "metadata": {},
   "outputs": [
    {
     "data": {
      "text/html": [
       "<div>\n",
       "<style scoped>\n",
       "    .dataframe tbody tr th:only-of-type {\n",
       "        vertical-align: middle;\n",
       "    }\n",
       "\n",
       "    .dataframe tbody tr th {\n",
       "        vertical-align: top;\n",
       "    }\n",
       "\n",
       "    .dataframe thead th {\n",
       "        text-align: right;\n",
       "    }\n",
       "</style>\n",
       "<table border=\"1\" class=\"dataframe\">\n",
       "  <thead>\n",
       "    <tr style=\"text-align: right;\">\n",
       "      <th></th>\n",
       "      <th>Age</th>\n",
       "      <th>Sleep_Hours</th>\n",
       "      <th>Work_Hours</th>\n",
       "      <th>Physical_Activity_Hours</th>\n",
       "    </tr>\n",
       "  </thead>\n",
       "  <tbody>\n",
       "    <tr>\n",
       "      <th>Age</th>\n",
       "      <td>1.000000</td>\n",
       "      <td>-0.044811</td>\n",
       "      <td>-0.014494</td>\n",
       "      <td>0.052772</td>\n",
       "    </tr>\n",
       "    <tr>\n",
       "      <th>Sleep_Hours</th>\n",
       "      <td>-0.044811</td>\n",
       "      <td>1.000000</td>\n",
       "      <td>-0.005034</td>\n",
       "      <td>-0.015013</td>\n",
       "    </tr>\n",
       "    <tr>\n",
       "      <th>Work_Hours</th>\n",
       "      <td>-0.014494</td>\n",
       "      <td>-0.005034</td>\n",
       "      <td>1.000000</td>\n",
       "      <td>0.038711</td>\n",
       "    </tr>\n",
       "    <tr>\n",
       "      <th>Physical_Activity_Hours</th>\n",
       "      <td>0.052772</td>\n",
       "      <td>-0.015013</td>\n",
       "      <td>0.038711</td>\n",
       "      <td>1.000000</td>\n",
       "    </tr>\n",
       "  </tbody>\n",
       "</table>\n",
       "</div>"
      ],
      "text/plain": [
       "                              Age  Sleep_Hours  Work_Hours  \\\n",
       "Age                      1.000000    -0.044811   -0.014494   \n",
       "Sleep_Hours             -0.044811     1.000000   -0.005034   \n",
       "Work_Hours              -0.014494    -0.005034    1.000000   \n",
       "Physical_Activity_Hours  0.052772    -0.015013    0.038711   \n",
       "\n",
       "                         Physical_Activity_Hours  \n",
       "Age                                     0.052772  \n",
       "Sleep_Hours                            -0.015013  \n",
       "Work_Hours                              0.038711  \n",
       "Physical_Activity_Hours                 1.000000  "
      ]
     },
     "execution_count": 61,
     "metadata": {},
     "output_type": "execute_result"
    }
   ],
   "source": [
    "df.drop(columns=['User_ID']).corr(method=\"spearman\", numeric_only=True)"
   ]
  },
  {
   "cell_type": "code",
   "execution_count": 62,
   "metadata": {},
   "outputs": [
    {
     "data": {
      "text/plain": [
       "<Axes: >"
      ]
     },
     "execution_count": 62,
     "metadata": {},
     "output_type": "execute_result"
    },
    {
     "data": {
      "image/png": "[encoded data removed]",
      "text/plain": [
       "<Figure size 640x480 with 2 Axes>"
      ]
     },
     "metadata": {},
     "output_type": "display_data"
    }
   ],
   "source": [
    "sns.heatmap(\n",
    "    data=df.drop(columns=['User_ID']).corr(numeric_only=True),\n",
    "    cmap=\"coolwarm\",\n",
    "    vmin=-1,\n",
    "    vmax=1,\n",
    "    annot=True,\n",
    "    fmt=\".3f\")"
   ]
  },
  {
   "cell_type": "markdown",
   "metadata": {},
   "source": [
    "r = 0.053 (признаки Age и Physical_Activity_Hours)\n",
    "\n",
    "r>0: положительная (прямая) связь, но значение крайне близко к 0, зависимость практически отсутствует\n",
    "\n",
    "|r|<0.3: очень слабая связь, практически отсутствует"
   ]
  },
  {
   "cell_type": "code",
   "execution_count": 63,
   "metadata": {},
   "outputs": [
    {
     "data": {
      "image/png": "[encoded data removed]",
      "text/plain": [
       "<Figure size 640x480 with 1 Axes>"
      ]
     },
     "metadata": {},
     "output_type": "display_data"
    }
   ],
   "source": [
    "sns.scatterplot(data=df, x=\"Age\", y=\"Physical_Activity_Hours\")\n",
    "plt.xlabel(\"Age\")\n",
    "plt.ylabel(\"Physical Activity Hours\")\n",
    "plt.show()"
   ]
  },
  {
   "cell_type": "markdown",
   "metadata": {},
   "source": [
    "Диаграмма рассеяния подтверждает отсутствие зависимости"
   ]
  },
  {
   "cell_type": "markdown",
   "metadata": {},
   "source": [
    "Логистическая регрессия (предсказание наличия ментального заболевания)"
   ]
  },
  {
   "cell_type": "code",
   "execution_count": 64,
   "metadata": {},
   "outputs": [
    {
     "name": "stdout",
     "output_type": "stream",
     "text": [
      "[[ 0.00096708 -0.01986749  0.006012   -0.00018053]]\n",
      "[-0.14]\n"
     ]
    }
   ],
   "source": [
    "from sklearn.linear_model import LogisticRegression\n",
    "from sklearn.model_selection import train_test_split\n",
    "\n",
    "X = df[['Age', 'Sleep_Hours', 'Work_Hours', 'Physical_Activity_Hours']]\n",
    "y = df['Mental_Health_Condition'].map({'No': 0, 'Yes': 1})\n",
    "\n",
    "X_train, X_test, y_train, y_test = train_test_split(X, y, test_size=0.2, random_state=42)\n",
    "\n",
    "from sklearn.linear_model import LogisticRegression\n",
    "model = LogisticRegression().fit(X_train, y_train)\n",
    "print(model.coef_)\n",
    "print(model.intercept_.round(2))"
   ]
  },
  {
   "cell_type": "markdown",
   "metadata": {},
   "source": [
    "Age (0.00096), Work_Hours (0.00601)\n",
    "При увеличении взраста и рабочих часов вероятность того, что у челвека будет ментальное заболевание, будет увеличиваться, но незначительно (чем старше человек или чем больше он работает, тем выше стресс)\n",
    "\n",
    "Sleep_Hours (-0.01987)\n",
    "При уменьшении длительности сна (в часах) вероятность того, что у человека будет ментальное заболевание, будет увеличиваться (лучший сон может уменьшать психические проблемы)\n",
    "Physical_Activity_Hours (-0.00018)\n",
    "При уменьшении длительности физической активности (в часах) вероятность того, что у человека будет ментальное заболевание, будет увеличиваться (эффект минимален)"
   ]
  },
  {
   "cell_type": "code",
   "execution_count": 65,
   "metadata": {},
   "outputs": [
    {
     "name": "stdout",
     "output_type": "stream",
     "text": [
      "Accuracy: 0.495\n",
      "Recall: 0.847\n",
      "F1 Score: 0.622\n",
      "Precision: 0.491\n",
      "log_loss: 0.6944406398762919\n",
      "ROC_AUC: 0.5190076030412165\n"
     ]
    }
   ],
   "source": [
    "from sklearn.metrics import confusion_matrix\n",
    "from sklearn.metrics import accuracy_score\n",
    "from sklearn.metrics import recall_score\n",
    "from sklearn.metrics import f1_score\n",
    "from sklearn.metrics import precision_score\n",
    "from sklearn.metrics import log_loss\n",
    "from sklearn.metrics import roc_auc_score, roc_curve\n",
    "\n",
    "y_pred = model.predict(X_test)\n",
    "\n",
    "print(\"Accuracy:\", round(accuracy_score(y_test, y_pred), 3))\n",
    "print(\"Recall:\", round(recall_score(y_test, y_pred), 3))\n",
    "print(\"F1 Score:\", round(f1_score(y_test, y_pred), 3))\n",
    "print(\"Precision:\", round(precision_score(y_test, y_pred), 3))\n",
    "\n",
    "y_pred_proba = model.predict_proba(X_test)\n",
    "print(\"log_loss:\", log_loss(y_test, y_pred_proba))\n",
    "\n",
    "print(\"ROC_AUC:\", roc_auc_score(y_test, y_pred_proba[:, 1]))"
   ]
  },
  {
   "cell_type": "markdown",
   "metadata": {},
   "source": [
    "Оценка качества модели\n",
    "\n",
    "Низкие значения accuracy, precision и ROC-AUC указывают на то, что модель не превосходит случайный выбор. Модель обладает плохой прогностической способностью."
   ]
  },
  {
   "cell_type": "markdown",
   "metadata": {},
   "source": [
    "Интерпретация метрик \n",
    "\n",
    "Accuracy = 0.495: Модель с точностью 49,5% делает верный прогноз, что меньше 50%\n",
    "\n",
    "Precision = 0.491: Модель не надежна при классификации Positive семплов \n",
    "\n",
    "Recall = 0.847: Примерно 85% Positive выборок было корректно предсказано. Модель достаточно хорошо классифицирует представителей положительного класса.\n",
    "\n",
    "Модель имеет достатосно высокий уровень recall метрики, но низкую percision, модель правильно определяет большинство positive семплов, но имеет много ложных срабатываний (классификаций Negative выборок как Positive)\n",
    "\n",
    "F1 = 0.622: у модели естьп роблемы с достижением баланса между полнотой и точностью\n",
    "\n",
    "Log_loss = 0.69: прогнозируемая вероятность достаточно сильно отклоняется от фактического значения\n",
    "\n",
    "ROC_AUC: 0.52: показатель практически равен 0.5, практически не лучше случайного угадывания \n"
   ]
  },
  {
   "cell_type": "markdown",
   "metadata": {},
   "source": [
    "КТ-4"
   ]
  },
  {
   "cell_type": "markdown",
   "metadata": {},
   "source": [
    "    Доверительный интервал для математического ожидания через z-статистику"
   ]
  },
  {
   "cell_type": "code",
   "execution_count": 66,
   "metadata": {},
   "outputs": [
    {
     "data": {
      "text/plain": [
       "(6.956067523011886, 7.235132476988114)"
      ]
     },
     "execution_count": 66,
     "metadata": {},
     "output_type": "execute_result"
    }
   ],
   "source": [
    "import scipy.stats as stats\n",
    "\n",
    "sleep = df['Sleep_Hours']\n",
    "n = len(sleep)\n",
    "mean = sleep.mean()\n",
    "s = np.std(sleep)\n",
    "\n",
    "res = stats.norm.interval(0.99, loc=mean, scale=s/np.sqrt(n))\n",
    "res"
   ]
  },
  {
   "cell_type": "markdown",
   "metadata": {},
   "source": [
    "С вероятностью 95% среднее время сна находится в интервале от 6.956 до 7.235 часов"
   ]
  },
  {
   "cell_type": "markdown",
   "metadata": {},
   "source": [
    "    Доверительный интервал для математического ожидания через t-статистику"
   ]
  },
  {
   "cell_type": "code",
   "execution_count": 67,
   "metadata": {},
   "outputs": [
    {
     "data": {
      "text/plain": [
       "(6.9558004472102395, 7.235399552789761)"
      ]
     },
     "execution_count": 67,
     "metadata": {},
     "output_type": "execute_result"
    }
   ],
   "source": [
    "res = stats.t.interval(0.99,               \n",
    "                       df = n - 1,         \n",
    "                       loc = mean,          \n",
    "                       scale = s/np.sqrt(n)) \n",
    "res"
   ]
  },
  {
   "cell_type": "markdown",
   "metadata": {},
   "source": [
    "С вероятностью 99% среднее время сна находится в интервале от 6.956 до 7.235"
   ]
  },
  {
   "cell_type": "markdown",
   "metadata": {},
   "source": [
    "    Z-тест на математическое ожидание"
   ]
  },
  {
   "cell_type": "markdown",
   "metadata": {},
   "source": [
    "H0: Среднее количество сна у людей с ментальными заболеваниями равно 7 часам\n",
    "\n",
    "H1: Среднее количество сна у людей с ментальными заболеваниями не равно 7 часам.\n"
   ]
  },
  {
   "cell_type": "code",
   "execution_count": 171,
   "metadata": {},
   "outputs": [
    {
     "data": {
      "text/plain": [
       "0.4998387413451688"
      ]
     },
     "execution_count": 171,
     "metadata": {},
     "output_type": "execute_result"
    }
   ],
   "source": [
    "from statsmodels.stats.weightstats import ztest\n",
    "\n",
    "df_mental = df[df[\"Mental_Health_Condition\"] == \"Yes\"]\n",
    "\n",
    "mu = 7\n",
    "\n",
    "from statsmodels.stats.weightstats import ztest as ztest\n",
    "res = ztest(df_mental[\"Sleep_Hours\"],                     \n",
    "            value = mu,      \n",
    "            alternative = 'two-sided') \n",
    "p_value = res[1]\n",
    "p_value"
   ]
  },
  {
   "cell_type": "markdown",
   "metadata": {},
   "source": [
    "p-value = 0.5, гипотеза не отвергается при уровне значимости 10%\n",
    "\n",
    "Вывод: Среднее количество сна у людей с ментальными заболеваниями статистически не отличается от 7 часов.\n",
    "\n",
    "Это означает, что количество сна у этой группы не является аномальным и, вероятно, не связано напрямую с наличием ментального заболевания."
   ]
  },
  {
   "cell_type": "markdown",
   "metadata": {},
   "source": [
    "    Зависимость двух критериев в данных с помощью критерия независимости хи-квадрат"
   ]
  },
  {
   "cell_type": "markdown",
   "metadata": {},
   "source": [
    "H0: В генеральной совокупности не существует зависимости между странами проживания и наличием ментального заболевания.\n",
    "\n",
    "H1: В генеральной совокупности существует зависимость между странами, в которых проживают опрошенные и наличием ментального заболевания.\n"
   ]
  },
  {
   "cell_type": "code",
   "execution_count": 104,
   "metadata": {},
   "outputs": [
    {
     "data": {
      "text/html": [
       "<div>\n",
       "<style scoped>\n",
       "    .dataframe tbody tr th:only-of-type {\n",
       "        vertical-align: middle;\n",
       "    }\n",
       "\n",
       "    .dataframe tbody tr th {\n",
       "        vertical-align: top;\n",
       "    }\n",
       "\n",
       "    .dataframe thead th {\n",
       "        text-align: right;\n",
       "    }\n",
       "</style>\n",
       "<table border=\"1\" class=\"dataframe\">\n",
       "  <thead>\n",
       "    <tr style=\"text-align: right;\">\n",
       "      <th>Mental_Health_Condition</th>\n",
       "      <th>No</th>\n",
       "      <th>Yes</th>\n",
       "    </tr>\n",
       "    <tr>\n",
       "      <th>Country</th>\n",
       "      <th></th>\n",
       "      <th></th>\n",
       "    </tr>\n",
       "  </thead>\n",
       "  <tbody>\n",
       "    <tr>\n",
       "      <th>Australia</th>\n",
       "      <td>87</td>\n",
       "      <td>73</td>\n",
       "    </tr>\n",
       "    <tr>\n",
       "      <th>Canada</th>\n",
       "      <td>59</td>\n",
       "      <td>79</td>\n",
       "    </tr>\n",
       "    <tr>\n",
       "      <th>Germany</th>\n",
       "      <td>74</td>\n",
       "      <td>67</td>\n",
       "    </tr>\n",
       "    <tr>\n",
       "      <th>India</th>\n",
       "      <td>70</td>\n",
       "      <td>85</td>\n",
       "    </tr>\n",
       "    <tr>\n",
       "      <th>Other</th>\n",
       "      <td>62</td>\n",
       "      <td>53</td>\n",
       "    </tr>\n",
       "    <tr>\n",
       "      <th>UK</th>\n",
       "      <td>67</td>\n",
       "      <td>72</td>\n",
       "    </tr>\n",
       "    <tr>\n",
       "      <th>USA</th>\n",
       "      <td>66</td>\n",
       "      <td>86</td>\n",
       "    </tr>\n",
       "  </tbody>\n",
       "</table>\n",
       "</div>"
      ],
      "text/plain": [
       "Mental_Health_Condition  No  Yes\n",
       "Country                         \n",
       "Australia                87   73\n",
       "Canada                   59   79\n",
       "Germany                  74   67\n",
       "India                    70   85\n",
       "Other                    62   53\n",
       "UK                       67   72\n",
       "USA                      66   86"
      ]
     },
     "execution_count": 104,
     "metadata": {},
     "output_type": "execute_result"
    }
   ],
   "source": [
    "ct_o = df.groupby('Country')['Mental_Health_Condition'].value_counts().unstack()\n",
    "ct_o"
   ]
  },
  {
   "cell_type": "code",
   "execution_count": 106,
   "metadata": {},
   "outputs": [],
   "source": [
    "alpha = 0.01\n",
    "dof = (7-1)*(2-1)\n",
    "critical_value = 16.81"
   ]
  },
  {
   "cell_type": "code",
   "execution_count": 107,
   "metadata": {},
   "outputs": [
    {
     "data": {
      "text/plain": [
       "Chi2ContingencyResult(statistic=8.546155787131655, pvalue=0.2007562237842514, dof=6, expected_freq=array([[77.6  , 82.4  ],\n",
       "       [66.93 , 71.07 ],\n",
       "       [68.385, 72.615],\n",
       "       [75.175, 79.825],\n",
       "       [55.775, 59.225],\n",
       "       [67.415, 71.585],\n",
       "       [73.72 , 78.28 ]]))"
      ]
     },
     "execution_count": 107,
     "metadata": {},
     "output_type": "execute_result"
    }
   ],
   "source": [
    "stats.chi2_contingency(ct_o)"
   ]
  },
  {
   "cell_type": "markdown",
   "metadata": {},
   "source": [
    "Критерий меньше критического значения (8.5 < 16.81), следовательно, нулевая гипотеза не может быть отвергнута в пользу альтернативной — в генеральной совокупности опрошенных зависимость между странами проживания и наличием ментального заболевания отсутствует."
   ]
  },
  {
   "cell_type": "markdown",
   "metadata": {},
   "source": [
    "    Соответствия распределение двух признаков с помощью критерия согласия хи-квадрат"
   ]
  },
  {
   "cell_type": "markdown",
   "metadata": {},
   "source": [
    "H0: 50% всех людей, имеющих психическое заболевание, — мужчины, и 50% — женщины. \n",
    "\n",
    "Другими словами — разницы между долей мужчин и женщин, имеющих ментальные заболевания нет.\n",
    "\n",
    "Н1: распределение в генеральной совокупности отличается от распределения, описанного нулевой гипотезой."
   ]
  },
  {
   "cell_type": "code",
   "execution_count": 119,
   "metadata": {},
   "outputs": [
    {
     "data": {
      "text/html": [
       "<div>\n",
       "<style scoped>\n",
       "    .dataframe tbody tr th:only-of-type {\n",
       "        vertical-align: middle;\n",
       "    }\n",
       "\n",
       "    .dataframe tbody tr th {\n",
       "        vertical-align: top;\n",
       "    }\n",
       "\n",
       "    .dataframe thead th {\n",
       "        text-align: right;\n",
       "    }\n",
       "</style>\n",
       "<table border=\"1\" class=\"dataframe\">\n",
       "  <thead>\n",
       "    <tr style=\"text-align: right;\">\n",
       "      <th>Gender</th>\n",
       "      <th>Female</th>\n",
       "      <th>Male</th>\n",
       "    </tr>\n",
       "    <tr>\n",
       "      <th>Mental_Health_Condition</th>\n",
       "      <th></th>\n",
       "      <th></th>\n",
       "    </tr>\n",
       "  </thead>\n",
       "  <tbody>\n",
       "    <tr>\n",
       "      <th>Yes</th>\n",
       "      <td>144</td>\n",
       "      <td>129</td>\n",
       "    </tr>\n",
       "  </tbody>\n",
       "</table>\n",
       "</div>"
      ],
      "text/plain": [
       "Gender                   Female  Male\n",
       "Mental_Health_Condition              \n",
       "Yes                         144   129"
      ]
     },
     "execution_count": 119,
     "metadata": {},
     "output_type": "execute_result"
    }
   ],
   "source": [
    "ct_o1 = df.loc[(df['Gender'] != 'Prefer not to say') & (df['Gender'] != 'Non-binary') & (df['Mental_Health_Condition'] == 'Yes')].groupby('Mental_Health_Condition')['Gender'].value_counts().unstack()\n",
    "ct_o1"
   ]
  },
  {
   "cell_type": "code",
   "execution_count": 149,
   "metadata": {},
   "outputs": [
    {
     "data": {
      "text/plain": [
       "array([136.5, 136.5])"
      ]
     },
     "execution_count": 149,
     "metadata": {},
     "output_type": "execute_result"
    }
   ],
   "source": [
    "alpha = 0.01\n",
    "dof = 2-1\n",
    "critical_value = 6.63\n",
    "n_total = ct_o1.sum().sum()\n",
    "\n",
    "ct_e = np.array([0.5*n_total, 0.5*n_total])\n",
    "ct_e"
   ]
  },
  {
   "cell_type": "code",
   "execution_count": 157,
   "metadata": {},
   "outputs": [
    {
     "data": {
      "text/plain": [
       "0.8241758241758241"
      ]
     },
     "execution_count": 157,
     "metadata": {},
     "output_type": "execute_result"
    }
   ],
   "source": [
    "((ct_o1 - ct_e)**2 / ct_e).sum().sum()"
   ]
  },
  {
   "cell_type": "markdown",
   "metadata": {},
   "source": [
    "Критерий согласия хи-квадрат равен 0.82 < 6.63, нет оснований отвергать нулевую гипотезу (H₀).\n",
    "\n",
    "Это означает, что различия между долями мужчин и женщин, имеющих ментальные заболевания, статистически незначимы."
   ]
  }
 ],
 "metadata": {
  "kernelspec": {
   "display_name": "base",
   "language": "python",
   "name": "python3"
  },
  "language_info": {
   "codemirror_mode": {
    "name": "ipython",
    "version": 3
   },
   "file_extension": ".py",
   "mimetype": "text/x-python",
   "name": "python",
   "nbconvert_exporter": "python",
   "pygments_lexer": "ipython3",
   "version": "3.12.7"
  }
 },
 "nbformat": 4,
 "nbformat_minor": 2
}
